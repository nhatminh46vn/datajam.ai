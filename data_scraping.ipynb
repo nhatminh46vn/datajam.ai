{
  "nbformat": 4,
  "nbformat_minor": 0,
  "metadata": {
    "colab": {
      "name": "data_scraping.ipynb",
      "provenance": [],
      "collapsed_sections": [],
      "toc_visible": true,
      "authorship_tag": "ABX9TyOTYyuF0iG1pe3YXv487+EK",
      "include_colab_link": true
    },
    "kernelspec": {
      "name": "python3",
      "display_name": "Python 3"
    }
  },
  "cells": [
    {
      "cell_type": "markdown",
      "metadata": {
        "id": "view-in-github",
        "colab_type": "text"
      },
      "source": [
        "<a href=\"https://colab.research.google.com/github/nhatminh46vn/datajam.ai/blob/master/data_scraping.ipynb\" target=\"_parent\"><img src=\"https://colab.research.google.com/assets/colab-badge.svg\" alt=\"Open In Colab\"/></a>"
      ]
    },
    {
      "cell_type": "markdown",
      "metadata": {
        "id": "7rg93Yjr7qXf"
      },
      "source": [
        "## **structure of URL **\r\n",
        "\r\n",
        "Page 1 : https://www.coursera.org/learn/inferential-statistical-analysis-python/reviews?page=1\r\n",
        "\r\n",
        "Page 2 : https://www.coursera.org/learn/inferential-statistical-analysis-python/reviews?page=2\r\n",
        "\r\n",
        "Page 10 : https://www.coursera.org/learn/inferential-statistical-analysis-python/reviews?page=10\r\n",
        "\r\n",
        "Question : When to stop in case we do not know how many review pages of the course is ? Anwser : using request error as stop criterial \r\n",
        "\r\n",
        "Question : how to count the rating star for each review ? \r\n",
        "\r\n",
        "Remark: we need to scrape the feed back as much as possible in different subject ( statistic/Python/SQL/...)\r\n",
        "\r\n",
        "Remark : need to add headers and time of request in resquest code avoid the scraping by bot. \r\n",
        "\r\n",
        "Remark : use pandas to export the scv into 3 columns  (name of reviewer / comment/ rating )\r\n"
      ]
    },
    {
      "cell_type": "code",
      "metadata": {
        "id": "erGliyMw6-MB"
      },
      "source": [
        "#importation of beautifulSoup \r\n",
        "from bs4 import BeautifulSoup\r\n",
        "import requests\r\n",
        "import re\r\n",
        "import pdb\r\n",
        "\r\n",
        "URL = 'https://www.coursera.org/learn/inferential-statistical-analysis-python/reviews'  \r\n",
        "page = requests.get(URL)     \r\n",
        "# Html parsing                                                         \r\n",
        "soup = BeautifulSoup(page.content)                                   \r\n",
        " # print the resquest page with function Prettify\r\n",
        " #print(soup.prettify())                                                     \r\n"
      ],
      "execution_count": 9,
      "outputs": []
    },
    {
      "cell_type": "code",
      "metadata": {
        "id": "d4dEMPCt8cGa",
        "colab": {
          "base_uri": "https://localhost:8080/"
        },
        "outputId": "61b9815c-9ce9-4edf-e371-a2381098c0ee"
      },
      "source": [
        "\r\n",
        "block1st=soup.find('div',class_='_ng613ig review-text') #1st block of review section ( inlucding text and rating star )\r\n",
        "\r\n",
        "review=block1st.find('div',class_='reviewText').find('p') #extract 1st review text\r\n",
        "\r\n",
        "print(review.prettify())   #extract 1st block related to the review dessus \r\n",
        "\r\n",
        "rating_block1st=block1st.find('div' ,class_=\"_1mzojlvw\", role=\"img\",)\r\n",
        "\r\n",
        "emptyStar=re.findall('\"fill:rgba.\\w+', str(rating_block1st)) #fcking ratingstar took me a day for solution\r\n",
        "\r\n",
        "rating=len(rating_block1st)-len(emptyStar)\r\n",
        "\r\n",
        "print(rating)\r\n"
      ],
      "execution_count": 3,
      "outputs": [
        {
          "output_type": "stream",
          "text": [
            "<p>\n",
            " Do you do usability tests of your courses? Like you can test a landing page - you pick a random person to perform a certain action on your landing page, and see where they struggle or what is unclear? If you did this with this course before going live, it would benefit everyone. Right now the quality of this course is too low, concepts are not explained enough, and the assignments (especially week 3) contain wrong instructions and errors.\n",
            "</p>\n",
            "1\n"
          ],
          "name": "stdout"
        }
      ]
    },
    {
      "cell_type": "code",
      "metadata": {
        "colab": {
          "base_uri": "https://localhost:8080/"
        },
        "id": "-njDGe17_syH",
        "outputId": "f7440ad7-6739-4109-fb0f-14b1b2f143d1"
      },
      "source": [
        "# rating star for 1st block sur 25 blocks of review \r\n",
        "\r\n",
        "rating_blocks=soup.body.findAll('div',class_='_jyhj5r review review-page-review m-b-2')\r\n",
        "\r\n",
        "parttern=re.compile(r'fill:rgba')\r\n",
        "\r\n",
        "match=parttern.findall(str(rating_blocks[0]))\r\n",
        "\r\n",
        "rating=5-len(match)\r\n",
        "\r\n",
        "print('Rating of 1st comment is :', rating)\r\n"
      ],
      "execution_count": 24,
      "outputs": [
        {
          "output_type": "stream",
          "text": [
            "Rating of 1st comment is : 1\n"
          ],
          "name": "stdout"
        }
      ]
    },
    {
      "cell_type": "code",
      "metadata": {
        "colab": {
          "base_uri": "https://localhost:8080/"
        },
        "id": "LSJvKOgDzO_h",
        "outputId": "3bd1d986-acaf-4b2d-9068-2bc860fc4965"
      },
      "source": [
        "#review text \r\n",
        "\r\n",
        "alls_review=[]\r\n",
        "#make a loop \r\n",
        "blocks=soup.find_all('div',class_='reviewText')\r\n",
        "  #  review=Block.find('p')\r\n",
        "   # alls_review.append(review)\r\n",
        "for reviews in blocks:\r\n",
        "  review=reviews.find('p')\r\n",
        "  alls_review.append(review)\r\n",
        "\r\n",
        "print(alls_review)\r\n",
        "len(alls_review)"
      ],
      "execution_count": 38,
      "outputs": [
        {
          "output_type": "stream",
          "text": [
            "[<p>Do you do usability tests of your courses? Like you can test a landing page - you pick a random person to perform a certain action on your landing page, and see where they struggle or what is unclear? If you did this with this course before going live, it would benefit everyone. Right now the quality of this course is too low, concepts are not explained enough, and the assignments (especially week 3) contain wrong instructions and errors.</p>, <p>If you want to learn basic and inferential statistics - I would advise checking out the courses with these name from by University of Amsterdam(you can take them without taking the specialization). they are much clearer. And then if you want examples of Python code - take this course. Just check out the forums first. As of jan2019 the Python Notebook used for the week3 assessment had various problems.</p>, <p>This course attempts to cover very useful topics but falls short on several areas. 1. Multiple errors in the assignments. Practice exercises don't have any answers for students to check. 2. Course slides are not provided. 3. Lack of support to questions asked in forum. I learned a lot from the course but a significant amount of time could have been saved if the issues I mentioned were addressed.</p>, <p>In this course, they cover making confidence intervals and calculating p-values given a specific test scenario (compare sample proportion to population proportion, sample mean to population mean, two sample means to each other, etc). While they go though each statistical procedure clearly, I feel like a lot of underlying context is missing. What is the different between a z- and t-distribution? Why do we use those distributions? How do the different tests relate to each other? Etc. It feels like this course needed an extra 50-60 minutes of lecture time to tie all these concepts together. A textbook to follow along would have been great too.</p>, <p>Alltogether the course was great. I learned so much and understood some principles I did not understand when having read of them before.</p>, <p>Dissapointing. Full of errors during all the course. I came from the first course and I found the second one dissapointing. Some issues I found I thonk they should solve:</p>, <p>Great lecture content. Poor quiz design.</p>, <p>Very clear and interesting lectures, but quizzes and Jupyter notebooks could benefit from some additional proofreading and pre-release testing.  Material in last week is out of order.   Spent a few hours some week just figuring out the mistakes with the help of the course forum.</p>, <p>Good lectures but too little practice and quizzes that don't cover all the material. Very little Python. </p>, <p>This course is a good statistics course, but a poor Python course. Python is practically an after thought in each week's lesson as the focus in the lecturing learning methods is entirely verbal rather than supported by in lecture use of Python. The Python review at the end of each week before the assessment is not connected enough with the lecture materials and makes for a very disjointed week of learning.</p>, <p>\n",
            "The course contents are good to an introduction or refreshing in statistics but the assigments are not really well prepared, and contains many unrepaired errors. This drops down the level an educational potential of this course (and the entire specialization) and converts it in a poor educational resource and a  waste of time, in my opinion\n",
            "\n",
            "</p>, <p>I must say that this is a must take course for ones who are aspiring a career in Data Science. All the concepts were laid out so beautifully and it was explained very clearly with visualisations of each real-life-examples. I enrolled in this specialisation before starting my Machine Learning so that I have all the necessary fundamentals of Statistics. Brady Sir &amp; Brendra Ma'am are simply phenomenal, the way they explain the concepts are incredible. The concepts gets etched in one's memory. </p>, <p>From the introduction, the course is supposed to build the knowledge ground up for a beginner in Statistics. However, it falls short in clearing many concepts and the principals end up being vague in a lot of sense, hence, there is a lack of cohesiveness in the concepts spread across weeks. Fortunately, I took an open course offered by Stanford University of the Inference Concepts explained in this course; before taking up this course.</p>, <p>I enjoy the lectures. The professor has a good speaking and teaching style which keeps me interested. Lots of concrete math examples which make it easier to understand. Very good slides which are well formulated and easy to understand</p>, <p>Great Course. There are so many example to understand the topic. I really enjoyed every lesson of this specialization. I am going forward for the next one.  </p>, <p>It is absolutely great. Instructors are veeeery pasionated with what they do, and the course material is very good.</p>, <p>Some concepts not covered in much details - ttest, ztest, one tailed test, two tailed - how to use them,when to use them... one needs to go outside of the course to first understand them. These concepts are not explained but are asked directly in assignments which leads to a lot of confusion. </p>, <p>There are no feedbacks for wrong answers in QUIZ, of course the course and the quiz are not at all relatable, lol</p>, <p>They could increase the rigor mathematically on this OR spend more time on creative code.  Code was great.  Math was very very easy so you don't have to listen to the videos if you don't want and just grab the lecture slides.  I find on many of these courses they are either way too rigorous or not rigorous at all where the lectures are a bit of waste and you can just read the books/slides  (Sounds like Undergrad math/stats lectures all over again? aha) </p>, <p>This course went into great detail about how to calculate confidence intervals and p-values, what these mean statistically, and some cautionary tales and misconceptions regarding them. It was really repetitive, which I appreciated, as it really drills the concepts in, but if you really catch on quickly to mathematical concepts you might find this a bit annoying. The applications with Python are quite useful - the course goes into detail not only with how to manually input values, but encourages you to write your own functions and ultimately access the statsmodels library to simplify this. It's nice to know what's going on under the hood in the libraries we so often depend on.</p>, <p>I really enjoyed learning through this course. The instructors manage to explain in great clarity the concepts that it covers, and they are also very engaging and fun to watch. Professor West is also making a great effort paying attention to details that every sound statistical analysis should follow but is often overlooked. The Python notebooks are very informative too, offering the right amount of challenge to learners. Highly recommended course overall.</p>, <p>All instructors were very knowledgeable. Special mention goes to Prof. West. I found the last section (week 4) very insightful, detailed and rigorous. I would have loved seeing a deep discussion on the theoretical and practical choices behind the Null and the Alternative Hypothesis. I am still slightly confused on the purpose of the Alternative hypothesis. Overall a great course!</p>, <p>Excellent course! I really enjoy the combination of Statistics-based Python assignments. The Jupyter Notebooks are well written, easily documented, and there is plenty of lecture material to confidently complete the assignments. I find this makes it much easier to learn both Statistics and Python simultaneously, without any frustrating\"This wasn't covered in lecture!\" moments.</p>, <p>A complete course focused on teaching the details and intuition of experiment design, inferential analysis for decision making through confidence interval ans hypothesis testing and how to state effective questions. </p>, <p>my favorite course in this specification. The subject on hypothesis testing is well designed in this course, the instructors are good, reading are insightful, python programming illustrations  are easy to understand even for a new programmer like me. Shout out to Julie, a five star instructor who has a beautiful voice!</p>]\n"
          ],
          "name": "stdout"
        },
        {
          "output_type": "execute_result",
          "data": {
            "text/plain": [
              "25"
            ]
          },
          "metadata": {
            "tags": []
          },
          "execution_count": 38
        }
      ]
    },
    {
      "cell_type": "code",
      "metadata": {
        "colab": {
          "base_uri": "https://localhost:8080/"
        },
        "id": "llfvZ79iHcPn",
        "outputId": "1188b8d8-01ad-4ee2-cc69-f70b0eff6c89"
      },
      "source": [
        "#looping\r\n",
        "# rgba is not filled  '#f7bb56' = filled \r\n",
        "\r\n",
        "rating_blocks=soup.body.findAll('div',class_='_jyhj5r review review-page-review m-b-2')\r\n",
        "\r\n",
        "parttern=re.compile(r'fill:rgba')\r\n",
        "ratings=[]\r\n",
        "for i in list(range(25)):\r\n",
        "  matches=parttern.findall(str(rating_blocks[i]))\r\n",
        "  a = 5-len(matches)\r\n",
        "  ratings.append(a)\r\n",
        "\r\n",
        "print(ratings)\r\n"
      ],
      "execution_count": 41,
      "outputs": [
        {
          "output_type": "stream",
          "text": [
            "[1, 1, 2, 3, 4, 2, 4, 3, 3, 2, 1, 5, 2, 5, 5, 5, 3, 3, 5, 5, 5, 5, 5, 5, 5]\n"
          ],
          "name": "stdout"
        }
      ]
    },
    {
      "cell_type": "code",
      "metadata": {
        "colab": {
          "base_uri": "https://localhost:8080/"
        },
        "id": "SprlFh1aOqh9",
        "outputId": "cfaa7b89-ada2-4cb1-f8c3-9fde19e3cffb"
      },
      "source": [
        "#1st block of review section ( inlucding text and rating star )\r\n",
        "\r\n",
        "block1st=soup.find('div',class_='_ng613ig review-text')\r\n",
        "\r\n",
        "rating_block1st=block1st.find('div' ,class_=\"_1mzojlvw\", role=\"img\",)\r\n",
        "\r\n",
        "#fcking ratingstar took me a day for solution\r\n",
        "\r\n",
        "emptyStar=re.findall('\"fill:rgba.\\w+', str(rating_block1st))\r\n",
        "\r\n",
        "rating=len(rating_block1st)-len(emptyStar)\r\n",
        "\r\n",
        "print('Rating of first comment: \\n', rating)\r\n",
        "\r\n"
      ],
      "execution_count": 42,
      "outputs": [
        {
          "output_type": "stream",
          "text": [
            "Rating of first comment: \n",
            " 1\n"
          ],
          "name": "stdout"
        }
      ]
    },
    {
      "cell_type": "code",
      "metadata": {
        "colab": {
          "base_uri": "https://localhost:8080/"
        },
        "id": "H8OkgIcMvCqC",
        "outputId": "5263a14e-aa90-44ff-ef81-bb8ea08a61bd"
      },
      "source": [
        "alls = []\r\n",
        "for d in soup.findAll('div', attrs={'class':'top-review'}):\r\n",
        "\r\n",
        "  top_review = d.find('p', attrs={'class':'top-review_comment'},recursive=True)\r\n",
        "\r\n",
        "  if top_review is not None:\r\n",
        "      alls.append(top_review)\r\n",
        "\r\n",
        "      print(top_review)\r\n",
        "\r\n",
        "\r\n",
        "\r\n"
      ],
      "execution_count": 43,
      "outputs": [
        {
          "output_type": "stream",
          "text": [
            "<p class=\"top-review_comment\">This is a very great course. Statistics by itself is a very powerful tool for solving real world problems. Combine it with the knowledge of Python, there no limit to what you can achieve.</p>\n",
            "<p class=\"top-review_comment\">Very good course content and mentors &amp; teachers. The course content was very structured. I learnt a lot from the course and gained skills which will definitely gonna help me in future.</p>\n"
          ],
          "name": "stdout"
        }
      ]
    }
  ]
}